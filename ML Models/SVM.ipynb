{
 "cells": [
  {
   "cell_type": "code",
   "execution_count": 1,
   "id": "249f6043",
   "metadata": {},
   "outputs": [],
   "source": [
    "# Step 1: Import required libraries\n",
    "import pandas as pd\n",
    "from sklearn.model_selection import train_test_split\n",
    "from sklearn.feature_extraction.text import TfidfVectorizer\n",
    "from sklearn.svm import LinearSVC\n",
    "from sklearn.metrics import classification_report, confusion_matrix, accuracy_score"
   ]
  },
  {
   "cell_type": "code",
   "execution_count": 2,
   "id": "0b8ddf70",
   "metadata": {},
   "outputs": [
    {
     "name": "stdout",
     "output_type": "stream",
     "text": [
      "                                             Comment  Sentiment\n",
      "0  Hopefully Batman shows up in this :fire::fire:...          2\n",
      "1  Im making a solemn oath right now that Im not ...          1\n",
      "2  Been a fan of his since euphoria dude is good ...          2\n",
      "3    Every good story starts with a when i was a kid          2\n",
      "4  Hunter Schafer? NEON produced horror film? Im ...          2\n",
      "Sentiment\n",
      "2    3110\n",
      "1    2012\n",
      "0    1840\n",
      "Name: count, dtype: int64\n",
      "SVM Model - Accuracy: 0.6891600861450108\n",
      "Classification Report:\n",
      "               precision    recall  f1-score   support\n",
      "\n",
      "           0       0.65      0.63      0.64       368\n",
      "           1       0.62      0.59      0.60       403\n",
      "           2       0.75      0.79      0.77       622\n",
      "\n",
      "    accuracy                           0.69      1393\n",
      "   macro avg       0.67      0.67      0.67      1393\n",
      "weighted avg       0.69      0.69      0.69      1393\n",
      "\n",
      "Confusion Matrix:\n",
      " [[231  70  67]\n",
      " [ 69 237  97]\n",
      " [ 55  75 492]]\n"
     ]
    }
   ],
   "source": [
    "# Step 2: Load dataset\n",
    "df = pd.read_csv('dataset.csv')\n",
    "\n",
    "# Step 3: Check data (optional)\n",
    "print(df.head())\n",
    "print(df['Sentiment'].value_counts())  # 0: Negative, 1: Neutral, 2: Positive\n",
    "\n",
    "# Step 4: Feature and label separation\n",
    "X = df['Comment']\n",
    "y = df['Sentiment']\n",
    "\n",
    "# Step 5: Split into training and testing sets\n",
    "X_train, X_test, y_train, y_test = train_test_split(\n",
    "    X, y, test_size=0.2, stratify=y, random_state=42)\n",
    "\n",
    "# Step 6: TF-IDF vectorization\n",
    "tfidf = TfidfVectorizer(max_features=5000)\n",
    "X_train_tfidf = tfidf.fit_transform(X_train)\n",
    "X_test_tfidf = tfidf.transform(X_test)\n",
    "\n",
    "# Step 7: Initialize and train the SVM model\n",
    "svm_model = LinearSVC()\n",
    "svm_model.fit(X_train_tfidf, y_train)\n",
    "\n",
    "# Step 8: Predict and evaluate\n",
    "y_pred = svm_model.predict(X_test_tfidf)\n",
    "\n",
    "print(\"SVM Model - Accuracy:\", accuracy_score(y_test, y_pred))\n",
    "print(\"Classification Report:\\n\", classification_report(y_test, y_pred))\n",
    "print(\"Confusion Matrix:\\n\", confusion_matrix(y_test, y_pred))"
   ]
  }
 ],
 "metadata": {
  "kernelspec": {
   "display_name": "myvenv",
   "language": "python",
   "name": "python3"
  },
  "language_info": {
   "codemirror_mode": {
    "name": "ipython",
    "version": 3
   },
   "file_extension": ".py",
   "mimetype": "text/x-python",
   "name": "python",
   "nbconvert_exporter": "python",
   "pygments_lexer": "ipython3",
   "version": "3.13.1"
  }
 },
 "nbformat": 4,
 "nbformat_minor": 5
}
