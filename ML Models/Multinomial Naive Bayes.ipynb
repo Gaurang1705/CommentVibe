{
 "cells": [
  {
   "cell_type": "code",
   "execution_count": 1,
   "id": "8a6be25e",
   "metadata": {},
   "outputs": [],
   "source": [
    "# NaiveBayesModel.ipynb\n",
    "\n",
    "# Step 1: Import necessary libraries\n",
    "import pandas as pd\n",
    "from sklearn.model_selection import train_test_split\n",
    "from sklearn.feature_extraction.text import TfidfVectorizer\n",
    "from sklearn.naive_bayes import MultinomialNB\n",
    "from sklearn.metrics import classification_report, confusion_matrix, accuracy_score"
   ]
  },
  {
   "cell_type": "code",
   "execution_count": 3,
   "id": "c69b81fa",
   "metadata": {},
   "outputs": [
    {
     "name": "stdout",
     "output_type": "stream",
     "text": [
      "                                             Comment  Sentiment\n",
      "0  Hopefully Batman shows up in this :fire::fire:...          2\n",
      "1  Im making a solemn oath right now that Im not ...          1\n",
      "2  Been a fan of his since euphoria dude is good ...          2\n",
      "3    Every good story starts with a when i was a kid          2\n",
      "4  Hunter Schafer? NEON produced horror film? Im ...          2\n",
      "Sentiment\n",
      "2    3110\n",
      "1    2012\n",
      "0    1840\n",
      "Name: count, dtype: int64\n",
      "Multinomial Naive Bayes - Accuracy: 0.6611629576453697\n",
      "Classification Report:\n",
      "               precision    recall  f1-score   support\n",
      "\n",
      "           0       0.75      0.50      0.60       368\n",
      "           1       0.78      0.37      0.50       403\n",
      "           2       0.61      0.95      0.75       622\n",
      "\n",
      "    accuracy                           0.66      1393\n",
      "   macro avg       0.72      0.60      0.62      1393\n",
      "weighted avg       0.70      0.66      0.64      1393\n",
      "\n",
      "Confusion Matrix:\n",
      " [[184  25 159]\n",
      " [ 44 148 211]\n",
      " [ 17  16 589]]\n"
     ]
    }
   ],
   "source": [
    "# Step 2: Load the dataset\n",
    "df = pd.read_csv('dataset.csv') \n",
    "\n",
    "# Step 3: Inspect the data (optional)\n",
    "print(df.head())\n",
    "print(df['Sentiment'].value_counts())\n",
    "\n",
    "# Step 4: Separate features and labels\n",
    "X = df['Comment']\n",
    "y = df['Sentiment']  # 0 = negative, 1 = neutral, 2 = positive\n",
    "\n",
    "# Step 5: Train-test split\n",
    "X_train, X_test, y_train, y_test = train_test_split(\n",
    "    X, y, test_size=0.2, stratify=y, random_state=42)\n",
    "\n",
    "# Step 6: Vectorization using TF-IDF\n",
    "tfidf = TfidfVectorizer(max_features=5000)\n",
    "X_train_tfidf = tfidf.fit_transform(X_train)\n",
    "X_test_tfidf = tfidf.transform(X_test)\n",
    "\n",
    "# Step 7: Initialize and train the Naive Bayes classifier\n",
    "nb_model = MultinomialNB()\n",
    "nb_model.fit(X_train_tfidf, y_train)\n",
    "\n",
    "# Step 8: Make predictions and evaluate\n",
    "y_pred = nb_model.predict(X_test_tfidf)\n",
    "\n",
    "print(\"Multinomial Naive Bayes - Accuracy:\", accuracy_score(y_test, y_pred))\n",
    "print(\"Classification Report:\\n\", classification_report(y_test, y_pred))\n",
    "print(\"Confusion Matrix:\\n\", confusion_matrix(y_test, y_pred))"
   ]
  }
 ],
 "metadata": {
  "kernelspec": {
   "display_name": "myvenv",
   "language": "python",
   "name": "python3"
  },
  "language_info": {
   "codemirror_mode": {
    "name": "ipython",
    "version": 3
   },
   "file_extension": ".py",
   "mimetype": "text/x-python",
   "name": "python",
   "nbconvert_exporter": "python",
   "pygments_lexer": "ipython3",
   "version": "3.13.1"
  }
 },
 "nbformat": 4,
 "nbformat_minor": 5
}
